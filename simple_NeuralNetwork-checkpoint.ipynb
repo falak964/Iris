{
 "cells": [
  {
   "cell_type": "code",
   "execution_count": 2,
   "id": "f1a826d1-5846-4b5d-8fca-1e8667b889f9",
   "metadata": {},
   "outputs": [],
   "source": [
    "import torch\n",
    "import torch.nn as nn\n",
    "import torch.nn.functional as F\n",
    "\n",
    "class Model(nn.Module):\n",
    "    def __init__(self, in_features=4, h1=8, h2=9, out_features=3):\n",
    "        super().__init__()  # Ensure to call the parent class constructor\n",
    "        self.fc1 = nn.Linear(in_features, h1)\n",
    "        self.fc2 = nn.Linear(h1, h2)\n",
    "        self.fc3 = nn.Linear(h2, out_features)\n",
    "\n",
    "    def forward(self, x):\n",
    "        x = F.relu(self.fc1(x))\n",
    "        x = F.relu(self.fc2(x))\n",
    "        x = self.fc3(x)  # Corrected `self.out` to `self.fc3`\n",
    "        return x\n"
   ]
  },
  {
   "cell_type": "code",
   "execution_count": 3,
   "id": "3a5d7cb0-fd83-4097-9f89-aa4f7553d521",
   "metadata": {},
   "outputs": [],
   "source": [
    "#Pick a manual seed for randomization\n",
    "torch.manual_seed(41)\n",
    "#Create an instance of model\n",
    "model = Model()"
   ]
  },
  {
   "cell_type": "code",
   "execution_count": 4,
   "id": "3d758452-2a61-4ede-8a3f-124c18eccdd7",
   "metadata": {},
   "outputs": [],
   "source": [
    "import pandas as pd\n",
    "import matplotlib.pyplot as plt\n",
    "%matplotlib inline"
   ]
  },
  {
   "cell_type": "code",
   "execution_count": 5,
   "id": "01cc4af8-3ce7-4821-a725-33cf57f7bcb1",
   "metadata": {},
   "outputs": [],
   "source": [
    "url = 'https://gist.githubusercontent.com/netj/8836201/raw/6f9306ad21398ea43cba4f7d537619d0e07d5ae3/iris.csv'\n",
    "my_df = pd.read_csv(url)"
   ]
  },
  {
   "cell_type": "code",
   "execution_count": 6,
   "id": "eac90163-054c-4603-8bb3-5207860edd0f",
   "metadata": {},
   "outputs": [
    {
     "data": {
      "text/html": [
       "<div>\n",
       "<style scoped>\n",
       "    .dataframe tbody tr th:only-of-type {\n",
       "        vertical-align: middle;\n",
       "    }\n",
       "\n",
       "    .dataframe tbody tr th {\n",
       "        vertical-align: top;\n",
       "    }\n",
       "\n",
       "    .dataframe thead th {\n",
       "        text-align: right;\n",
       "    }\n",
       "</style>\n",
       "<table border=\"1\" class=\"dataframe\">\n",
       "  <thead>\n",
       "    <tr style=\"text-align: right;\">\n",
       "      <th></th>\n",
       "      <th>sepal.length</th>\n",
       "      <th>sepal.width</th>\n",
       "      <th>petal.length</th>\n",
       "      <th>petal.width</th>\n",
       "      <th>variety</th>\n",
       "    </tr>\n",
       "  </thead>\n",
       "  <tbody>\n",
       "    <tr>\n",
       "      <th>145</th>\n",
       "      <td>6.7</td>\n",
       "      <td>3.0</td>\n",
       "      <td>5.2</td>\n",
       "      <td>2.3</td>\n",
       "      <td>Virginica</td>\n",
       "    </tr>\n",
       "    <tr>\n",
       "      <th>146</th>\n",
       "      <td>6.3</td>\n",
       "      <td>2.5</td>\n",
       "      <td>5.0</td>\n",
       "      <td>1.9</td>\n",
       "      <td>Virginica</td>\n",
       "    </tr>\n",
       "    <tr>\n",
       "      <th>147</th>\n",
       "      <td>6.5</td>\n",
       "      <td>3.0</td>\n",
       "      <td>5.2</td>\n",
       "      <td>2.0</td>\n",
       "      <td>Virginica</td>\n",
       "    </tr>\n",
       "    <tr>\n",
       "      <th>148</th>\n",
       "      <td>6.2</td>\n",
       "      <td>3.4</td>\n",
       "      <td>5.4</td>\n",
       "      <td>2.3</td>\n",
       "      <td>Virginica</td>\n",
       "    </tr>\n",
       "    <tr>\n",
       "      <th>149</th>\n",
       "      <td>5.9</td>\n",
       "      <td>3.0</td>\n",
       "      <td>5.1</td>\n",
       "      <td>1.8</td>\n",
       "      <td>Virginica</td>\n",
       "    </tr>\n",
       "  </tbody>\n",
       "</table>\n",
       "</div>"
      ],
      "text/plain": [
       "     sepal.length  sepal.width  petal.length  petal.width    variety\n",
       "145           6.7          3.0           5.2          2.3  Virginica\n",
       "146           6.3          2.5           5.0          1.9  Virginica\n",
       "147           6.5          3.0           5.2          2.0  Virginica\n",
       "148           6.2          3.4           5.4          2.3  Virginica\n",
       "149           5.9          3.0           5.1          1.8  Virginica"
      ]
     },
     "execution_count": 6,
     "metadata": {},
     "output_type": "execute_result"
    }
   ],
   "source": [
    "my_df.tail()"
   ]
  },
  {
   "cell_type": "code",
   "execution_count": 17,
   "id": "785bcd51-2a66-4e41-8ce1-041db0a35482",
   "metadata": {},
   "outputs": [],
   "source": [
    "import pandas as pd\n",
    "\n",
    "# Set the future downcasting option explicitly\n",
    "pd.set_option('future.no_silent_downcasting', True)\n",
    "\n",
    "# Replace values in the column with explicit type handling\n",
    "my_df['variety'] = my_df['variety'].replace('Virginica', 2.0)\n",
    "my_df['variety'] = my_df['variety'].astype(float)  # Ensure explicit type conversion if needed\n"
   ]
  },
  {
   "cell_type": "code",
   "execution_count": 8,
   "id": "c0705ed7-bfe1-4bd2-a373-9651edcd178d",
   "metadata": {},
   "outputs": [],
   "source": [
    "# Train Test Split! Set X and y\n",
    "X = my_df.drop('variety', axis=1)  # Features (drop 'variety' column)\n",
    "y = my_df['variety']  # Target variable (select 'variety' column directly)\n",
    "\n",
    "# Now you can proceed with train_test_split\n",
    "#from sklearn.model_selection import train_test_split\n",
    "\n",
    "#X_train, X_test, y_train, y_test = train_test_split(X, y, test_size=0.2, random_state=41)\n"
   ]
  },
  {
   "cell_type": "code",
   "execution_count": 9,
   "id": "b9024e98-e0ef-48f9-8ae4-bac6e8b26a49",
   "metadata": {},
   "outputs": [],
   "source": [
    "#Convert these to numpy arrays\n",
    "X = X.values\n",
    "y = y.values"
   ]
  },
  {
   "cell_type": "code",
   "execution_count": 10,
   "id": "c91738ad-51ab-490d-9f94-ec94dfb5b389",
   "metadata": {},
   "outputs": [],
   "source": [
    "from sklearn.model_selection import train_test_split"
   ]
  },
  {
   "cell_type": "code",
   "execution_count": 11,
   "id": "4fa2818c-7d75-48c7-af0c-0a453dc9fe6b",
   "metadata": {},
   "outputs": [],
   "source": [
    "#Train Test Split \n",
    "X_train, X_test, y_train, y_test = train_test_split(X, y, test_size=0.2, random_state=41)\n"
   ]
  },
  {
   "cell_type": "code",
   "execution_count": 12,
   "id": "abf0d83f-6233-46c5-ae09-33a4603f79a7",
   "metadata": {},
   "outputs": [],
   "source": [
    "#Convert X features to float tensors\n",
    "import torch\n",
    "X_train = torch.FloatTensor(X_train)\n",
    "X_test = torch.FloatTensor(X_test)"
   ]
  },
  {
   "cell_type": "code",
   "execution_count": 13,
   "id": "e909bd56-c4c9-41ef-9660-fcfdf07071f5",
   "metadata": {},
   "outputs": [],
   "source": [
    "#Convert y labels to tensors long\n",
    "y_train = torch.LongTensor(y_train)\n",
    "y_train = torch.LongTensor(y_test)"
   ]
  },
  {
   "cell_type": "code",
   "execution_count": 14,
   "id": "65194ed5-de1f-44db-8305-d3358f772062",
   "metadata": {},
   "outputs": [],
   "source": [
    "#Set the criteria of model to measure the error, how far off the predictions are from the data\n",
    "import torch.nn as nn\n",
    "import torch\n",
    "criteria = nn.CrossEntropyLoss()\n",
    "optimizer = torch.optim.Adam(model.parameters(), lr=0.01)\n"
   ]
  },
  {
   "cell_type": "code",
   "execution_count": 15,
   "id": "e3e1259e-915d-4d3f-b363-15a442cffc08",
   "metadata": {},
   "outputs": [
    {
     "data": {
      "text/plain": [
       "<bound method Module.parameters of Model(\n",
       "  (fc1): Linear(in_features=4, out_features=8, bias=True)\n",
       "  (fc2): Linear(in_features=8, out_features=9, bias=True)\n",
       "  (fc3): Linear(in_features=9, out_features=3, bias=True)\n",
       ")>"
      ]
     },
     "execution_count": 15,
     "metadata": {},
     "output_type": "execute_result"
    }
   ],
   "source": [
    "model.parameters"
   ]
  },
  {
   "cell_type": "code",
   "execution_count": 16,
   "id": "80e5cfa2-60e5-4073-9a2f-7806967d1a0c",
   "metadata": {},
   "outputs": [
    {
     "name": "stdout",
     "output_type": "stream",
     "text": [
      "Initial X_train shape: torch.Size([120, 4])\n",
      "Initial y_train shape: torch.Size([30])\n",
      "Batch size mismatch detected: X_train: 120, y_train: 30\n",
      "Resynchronized: X_train: torch.Size([30, 4]), y_train: torch.Size([30])\n"
     ]
    },
    {
     "ename": "NameError",
     "evalue": "name 'criterion' is not defined",
     "output_type": "error",
     "traceback": [
      "\u001b[1;31m---------------------------------------------------------------------------\u001b[0m",
      "\u001b[1;31mNameError\u001b[0m                                 Traceback (most recent call last)",
      "Cell \u001b[1;32mIn[16], line 32\u001b[0m\n\u001b[0;32m     29\u001b[0m     y_pred \u001b[38;5;241m=\u001b[39m y_pred\u001b[38;5;241m.\u001b[39msqueeze(\u001b[38;5;241m1\u001b[39m)\n\u001b[0;32m     31\u001b[0m \u001b[38;5;66;03m# Compute the loss\u001b[39;00m\n\u001b[1;32m---> 32\u001b[0m loss \u001b[38;5;241m=\u001b[39m \u001b[43mcriterion\u001b[49m(y_pred, y_train)\n\u001b[0;32m     33\u001b[0m losses\u001b[38;5;241m.\u001b[39mappend(loss\u001b[38;5;241m.\u001b[39mitem())\n\u001b[0;32m     35\u001b[0m \u001b[38;5;66;03m# Print loss every 10 epochs\u001b[39;00m\n",
      "\u001b[1;31mNameError\u001b[0m: name 'criterion' is not defined"
     ]
    }
   ],
   "source": [
    "# Debugging: Check initial shapes\n",
    "print(f\"Initial X_train shape: {X_train.shape}\")\n",
    "print(f\"Initial y_train shape: {y_train.shape}\")\n",
    "\n",
    "# Ensure y_train has the correct shape\n",
    "if y_train.dim() == 2:  # If y_train has shape [batch_size, 1]\n",
    "    y_train = y_train.squeeze(1)  # Convert to [batch_size]\n",
    "\n",
    "# Synchronize batch sizes if mismatched\n",
    "if X_train.shape[0] != y_train.shape[0]:\n",
    "    print(f\"Batch size mismatch detected: X_train: {X_train.shape[0]}, y_train: {y_train.shape[0]}\")\n",
    "    min_samples = min(X_train.shape[0], y_train.shape[0])\n",
    "    X_train = X_train[:min_samples]\n",
    "    y_train = y_train[:min_samples]\n",
    "    print(f\"Resynchronized: X_train: {X_train.shape}, y_train: {y_train.shape}\")\n",
    "\n",
    "# Training the model\n",
    "epochs = 100\n",
    "losses = []\n",
    "\n",
    "for epoch in range(epochs):\n",
    "    model.train()  # Set model to training mode\n",
    "\n",
    "    # Forward pass\n",
    "    y_pred = model(X_train)\n",
    "\n",
    "    # Ensure y_pred is compatible with criterion\n",
    "    if y_pred.dim() == 2 and y_pred.shape[1] == 1:\n",
    "        y_pred = y_pred.squeeze(1)\n",
    "\n",
    "    # Compute the loss\n",
    "    loss = criterion(y_pred, y_train)\n",
    "    losses.append(loss.item())\n",
    "\n",
    "    # Print loss every 10 epochs\n",
    "    if epoch % 10 == 0:\n",
    "        print(f\"Epoch {epoch + 1}/{epochs}, Loss: {loss.item():.4f}\")\n",
    "\n",
    "    # Backward pass\n",
    "    optimizer.zero_grad()\n",
    "    loss.backward()\n",
    "    optimizer.step()"
   ]
  },
  {
   "cell_type": "code",
   "execution_count": null,
   "id": "f4ca8f84-2a54-49e9-a184-a1a82bba671d",
   "metadata": {},
   "outputs": [],
   "source": [
    "#Graph it out\n",
    "import matplotlib.pyplot as plt\n",
    "plt.plot(range(epochs),losses)\n",
    "plt.ylabel(\"loss/error\")\n",
    "plt.xlabel('Epoch')"
   ]
  }
 ],
 "metadata": {
  "kernelspec": {
   "display_name": "Python 3 (ipykernel)",
   "language": "python",
   "name": "python3"
  },
  "language_info": {
   "codemirror_mode": {
    "name": "ipython",
    "version": 3
   },
   "file_extension": ".py",
   "mimetype": "text/x-python",
   "name": "python",
   "nbconvert_exporter": "python",
   "pygments_lexer": "ipython3",
   "version": "3.11.9"
  }
 },
 "nbformat": 4,
 "nbformat_minor": 5
}
